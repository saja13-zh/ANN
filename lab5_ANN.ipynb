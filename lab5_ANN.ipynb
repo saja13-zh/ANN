{
  "nbformat": 4,
  "nbformat_minor": 0,
  "metadata": {
    "colab": {
      "provenance": [],
      "authorship_tag": "ABX9TyPnp7OH7oAYex4WACa2ICkE",
      "include_colab_link": true
    },
    "kernelspec": {
      "name": "python3",
      "display_name": "Python 3"
    },
    "language_info": {
      "name": "python"
    }
  },
  "cells": [
    {
      "cell_type": "markdown",
      "metadata": {
        "id": "view-in-github",
        "colab_type": "text"
      },
      "source": [
        "<a href=\"https://colab.research.google.com/github/saja13-zh/ANN/blob/main/lab5_ANN.ipynb\" target=\"_parent\"><img src=\"https://colab.research.google.com/assets/colab-badge.svg\" alt=\"Open In Colab\"/></a>"
      ]
    },
    {
      "cell_type": "code",
      "execution_count": null,
      "metadata": {
        "colab": {
          "base_uri": "https://localhost:8080/"
        },
        "id": "PWWyy36TY6Og",
        "outputId": "9932a7d9-27dc-41a6-9a22-f753e199e85e"
      },
      "outputs": [
        {
          "output_type": "stream",
          "name": "stdout",
          "text": [
            "the reselt of p1=[1. 0.]\n",
            "the reselt of p2=[-1.  0.]\n",
            "the reselt of check_orthogonal p1 and p2=0.0\n",
            "the reselt of check_unitlength p1=1.0\n",
            "the reselt of check_unitlength p2=1.0\n"
          ]
        }
      ],
      "source": [
        "import numpy as np\n",
        "def purlin(w,p):\n",
        "  a=np.dot(w,p)\n",
        "  return a\n",
        "\n",
        "def hebb_rule(t,p):\n",
        "  w=np.dot(t,p.T)\n",
        "  return w\n",
        "\n",
        "p1=np.array([[0.5,0.5],[-0.5,0.5]])\n",
        "t1=np.array([1,1])\n",
        "p2=np.array([[0.5,-0.5],[-0.5,-0.5]])\n",
        "t2=np.array([-1,1])\n",
        "print(f\"the reselt of p1={hebb_rule(t1,p1)}\")\n",
        "print(f\"the reselt of p2={hebb_rule(t2,p2)}\")\n",
        "\n",
        "def check_orthogonal(a,b):\n",
        "  c=np.dot(a,b.T)\n",
        "  return c\n",
        "\n",
        "def check_unitlength(a):\n",
        "  c=np.dot(a,a.T)\n",
        "  return c\n",
        "\n",
        "P1=np.array([0.5,-0.5,0.5,-0.5])\n",
        "P2=np.array([0.5,0.5,-0.5,-0.5])\n",
        "print(f\"the reselt of check_orthogonal p1 and p2={check_orthogonal(P1,P2)}\")\n",
        "print(f\"the reselt of check_unitlength p1={check_unitlength(P1)}\")\n",
        "print(f\"the reselt of check_unitlength p2={check_unitlength(P2)}\")"
      ]
    },
    {
      "cell_type": "code",
      "source": [
        "x1=np.array([1,-1,-1])\n",
        "x2=np.array([1,1,-1])\n",
        "print(f\"the reselt of check_orthogonal p1 and p2={check_orthogonal(x1,x2)}\")\n",
        "print(f\"the reselt of check_unitlength p1={check_unitlength(x1)}\")"
      ],
      "metadata": {
        "colab": {
          "base_uri": "https://localhost:8080/"
        },
        "id": "IVbsBpWqm5se",
        "outputId": "c8659e8e-cdf4-4d29-9464-2b86486b195b"
      },
      "execution_count": null,
      "outputs": [
        {
          "output_type": "stream",
          "name": "stdout",
          "text": [
            "the reselt of check_orthogonal p1 and p2=1\n",
            "the reselt of check_unitlength p1=3\n"
          ]
        }
      ]
    },
    {
      "cell_type": "code",
      "source": [
        "def normalizevec(a):\n",
        "  sum1= sum([x**2 for x in a])\n",
        "  d = np.sqrt(sum1)\n",
        "  c=a/d\n",
        "  return c\n",
        "\n",
        "P=np.array([1,-1,-1])\n",
        "n=normalizevec(P)\n",
        "print(f\"normalizevec={normalizevec(P)}\")\n",
        "\n",
        "p1=np.array([1,-1,-1])\n",
        "p2=np.array([1,1,-1])\n",
        "t1=-1\n",
        "t2=1\n",
        "check_orthogonal=check_orthogonal(p1,p2)\n",
        "check_unitlength1=check_unitlength(p1)\n",
        "check_unitlength2=check_unitlength(p2)\n",
        "if(check_orthogonal==0 and check_unitlength1==1 and check_unitlength2==1):\n",
        "    print(\"is orthonormal no need to normalize \")\n",
        "else:\n",
        "    p1=normalizevec(p1)\n",
        "    p2=normalizevec(p2)\n",
        "\n",
        "w1=hebb_rule(t1,p1)\n",
        "w2=hebb_rule(t2,p2)\n",
        "print(f\"the reselt of w1={w1}\")\n",
        "print(f\"the reselt of w2={w2}\")\n",
        "print(f\"a1={purlin(w1,p1)}\")\n",
        "print(f\"a2={purlin(w2,p2)}\")\n"
      ],
      "metadata": {
        "colab": {
          "base_uri": "https://localhost:8080/"
        },
        "id": "dQSoh1B3ZAyk",
        "outputId": "e7bba805-7f05-4ff0-9f4f-2e5815cd92ab"
      },
      "execution_count": null,
      "outputs": [
        {
          "output_type": "stream",
          "name": "stdout",
          "text": [
            "normalizevec=[ 0.57735027 -0.57735027 -0.57735027]\n",
            "the reselt of w1=[-0.57735027  0.57735027  0.57735027]\n",
            "the reselt of w2=[ 0.57735027  0.57735027 -0.57735027]\n",
            "a1=-1.0000000000000002\n",
            "a2=1.0000000000000002\n"
          ]
        }
      ]
    },
    {
      "cell_type": "code",
      "source": [
        "print(f\"n={check_unitlength(n)}\")"
      ],
      "metadata": {
        "colab": {
          "base_uri": "https://localhost:8080/"
        },
        "id": "o0z6oJCspfVC",
        "outputId": "7ab56bcf-9d02-4b64-feb8-540574adbd5d"
      },
      "execution_count": null,
      "outputs": [
        {
          "output_type": "stream",
          "name": "stdout",
          "text": [
            "n=1.0000000000000002\n"
          ]
        }
      ]
    }
  ]
}