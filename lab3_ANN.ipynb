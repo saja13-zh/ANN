{
  "nbformat": 4,
  "nbformat_minor": 0,
  "metadata": {
    "colab": {
      "provenance": [],
      "authorship_tag": "ABX9TyNsXg0eDlrH5oXFJRTGAnMv",
      "include_colab_link": true
    },
    "kernelspec": {
      "name": "python3",
      "display_name": "Python 3"
    },
    "language_info": {
      "name": "python"
    }
  },
  "cells": [
    {
      "cell_type": "markdown",
      "metadata": {
        "id": "view-in-github",
        "colab_type": "text"
      },
      "source": [
        "<a href=\"https://colab.research.google.com/github/saja13-zh/ANN/blob/main/lab3_ANN.ipynb\" target=\"_parent\"><img src=\"https://colab.research.google.com/assets/colab-badge.svg\" alt=\"Open In Colab\"/></a>"
      ]
    },
    {
      "cell_type": "code",
      "execution_count": null,
      "metadata": {
        "colab": {
          "base_uri": "https://localhost:8080/"
        },
        "id": "fQRpRJYwT_sf",
        "outputId": "400cd08b-9921-4b00-d192-feee38f9a821"
      },
      "outputs": [
        {
          "output_type": "stream",
          "name": "stdout",
          "text": [
            "[[ 1 -1 -1]\n",
            " [ 1  1 -1]]\n",
            "[[3]\n",
            " [3]]\n",
            "p=[1,-1,-1] a1=[[6]\n",
            " [4]]\n",
            "\n",
            "p=[1,-1,-1] a1=[[4]\n",
            " [6]]\n",
            "\n",
            "p=[1,-1,-1] a1=[[4]\n",
            " [2]]\n",
            "\n",
            "p=[1,-1,-1] a1=[[2]\n",
            " [4]]\n",
            "\n"
          ]
        }
      ],
      "source": [
        "import numpy as np\n",
        "\n",
        "#the pureline function\n",
        "def purelin(a):\n",
        "  return a\n",
        "\n",
        "#feedforward function calculate the a and pass it into pureline function\n",
        "def feedforward(p,w,b):\n",
        "  a=np.dot(w,p.T)+b\n",
        "  a1=purelin(a)\n",
        "  return a1\n",
        "\n",
        "pt1=np.array([[1,-1,-1]])\n",
        "pt2=np.array([[1,1,-1]])\n",
        "w=np.concatenate((pt1,pt2))\n",
        "b=np.array([[3,3]]).T\n",
        "\n",
        "print(w)\n",
        "print(b)\n",
        "\n",
        "p1=np.array([[1,-1,-1]])\n",
        "a1=feedforward(p1,w,b)\n",
        "print(f\"p=[1,-1,-1] a1={a1}\\n\")\n",
        "\n",
        "p2=np.array([[1,1,-1]])\n",
        "a2=feedforward(p2,w,b)\n",
        "print(f\"p=[1,-1,-1] a1={a2}\\n\")\n",
        "\n",
        "p3=np.array([[-1,-1,-1]])\n",
        "a3=feedforward(p3,w,b)\n",
        "print(f\"p=[1,-1,-1] a1={a3}\\n\")\n",
        "\n",
        "p4=np.array([[-1,1,-1]])\n",
        "a4=feedforward(p4,w,b)\n",
        "print(f\"p=[1,-1,-1] a1={a4}\\n\")"
      ]
    },
    {
      "cell_type": "code",
      "source": [
        "#function for positive linear\n",
        "def positive(n):\n",
        "  if n<0:\n",
        "    return 0\n",
        "  else:\n",
        "    return n\n",
        "\n",
        "def recurrentlayer(a1,w,t):\n",
        "  if(t==0):\n",
        "    return a1\n",
        "  else:\n",
        "    a2=a1\n",
        "    for i in range(1,t+1):\n",
        "      n=np.dot(w,a2)\n",
        "      a=[]\n",
        "      for item in n:\n",
        "        a.append(positive(item))\n",
        "      a2=a\n",
        "\n",
        "  return a2\n",
        "\n",
        "a1=np.array([[4,2]]).T\n",
        "w=np.array([[1,-0.5],[-0.5,1]])\n",
        "print(recurrentlayer(a1,w,0))\n",
        "print(recurrentlayer(a1,w,1))\n",
        "print(recurrentlayer(a1,w,2))"
      ],
      "metadata": {
        "colab": {
          "base_uri": "https://localhost:8080/"
        },
        "id": "Y68doadSarjL",
        "outputId": "26f7b2ce-4114-40c1-da89-0edf19ab29a0"
      },
      "execution_count": null,
      "outputs": [
        {
          "output_type": "stream",
          "name": "stdout",
          "text": [
            "[[4]\n",
            " [2]]\n",
            "[array([3.]), array([0.])]\n",
            "[array([3.]), 0]\n"
          ]
        }
      ]
    },
    {
      "cell_type": "code",
      "source": [
        "#the pureline function\n",
        "def purelin(a):\n",
        "  return a\n",
        "\n",
        "#feedforward function calculate the a and pass it into pureline function\n",
        "def feedforward(p,w,b):\n",
        "  a=np.dot(w,p.T)+b\n",
        "  a1=purelin(a)\n",
        "  return a1\n",
        "\n",
        "#function for positive linear\n",
        "def positive(n):\n",
        "  if n<0:\n",
        "    return 0\n",
        "  else:\n",
        "    return n\n",
        "\n",
        "def recurrentlayer(a1,w,t):\n",
        "  if(t==0):\n",
        "    return a1\n",
        "  else:\n",
        "    a2=a1\n",
        "    for i in range(1,t+1):\n",
        "      n=np.dot(w,a2)\n",
        "      a=[]\n",
        "      for item in n:\n",
        "        a.append(positive(item))\n",
        "      a2=a\n",
        "\n",
        "  return a2\n",
        "\n",
        "\n",
        "pt1=np.array([[1,-1,-1]])\n",
        "pt2=np.array([[1,1,-1]])\n",
        "w1=np.concatenate((pt1,pt2))\n",
        "b=np.array([[3,3]]).T\n",
        "P1=np.array([[1,1,1]])\n",
        "w2=np.array([[1,-0.5],[-0.5,1]])\n",
        "a1=np.array([[4,2]]).T\n",
        "a1=feedforward(P1,w1,b)\n",
        "print(f\"a2(1)= {recurrentlayer(a1,w2,1)}\")\n",
        "print(f\"a2(2)= {recurrentlayer(a1,w2,2)}\\n\")\n",
        "\n",
        "P2=np.array([[1,1,-1]])\n",
        "a1=feedforward(P2,w1,b)\n",
        "print(f\"a2(1)= {recurrentlayer(a1,w2,1)}\")\n",
        "print(f\"a2(2)= {recurrentlayer(a1,w2,2)}\\n\")\n",
        "\n",
        "P3=np.array([[1,-1,1]])\n",
        "a1=feedforward(P3,w1,b)\n",
        "print(f\"a2(1)= {recurrentlayer(a1,w2,1)}\")\n",
        "print(f\"a2(2)= {recurrentlayer(a1,w2,2)}\\n\")\n",
        "\n",
        "P4=np.array([[1,-1,-1]])\n",
        "a1=feedforward(P4,w1,b)\n",
        "print(f\"a2(1)= {recurrentlayer(a1,w2,1)}\")\n",
        "print(f\"a2(2)= {recurrentlayer(a1,w2,2)}\\n\")\n",
        "\n",
        "P5=np.array([[-1,1,1]])\n",
        "a1=feedforward(P5,w1,b)\n",
        "print(f\"a2(1)= {recurrentlayer(a1,w2,1)}\")\n",
        "print(f\"a2(2)= {recurrentlayer(a1,w2,2)}\\n\")\n",
        "\n",
        "P6=np.array([[-1,1,-1]])\n",
        "a1=feedforward(P6,w1,b)\n",
        "print(f\"a2(1)= {recurrentlayer(a1,w2,1)}\")\n",
        "print(f\"a2(2)= {recurrentlayer(a1,w2,2)}\")"
      ],
      "metadata": {
        "colab": {
          "base_uri": "https://localhost:8080/"
        },
        "id": "ioBelF-6djAS",
        "outputId": "e2c50324-f9fd-4980-fee5-cec133dd3439"
      },
      "execution_count": null,
      "outputs": [
        {
          "output_type": "stream",
          "name": "stdout",
          "text": [
            "a2(1)= [array([0.]), array([3.])]\n",
            "a2(2)= [0, array([3.])]\n",
            "\n",
            "a2(1)= [array([1.]), array([4.])]\n",
            "a2(2)= [0, array([3.5])]\n",
            "\n",
            "a2(1)= [array([3.]), array([0.])]\n",
            "a2(2)= [array([3.]), 0]\n",
            "\n",
            "a2(1)= [array([4.]), array([1.])]\n",
            "a2(2)= [array([3.5]), 0]\n",
            "\n",
            "a2(1)= [0, array([2.])]\n",
            "a2(2)= [0, array([2.])]\n",
            "\n",
            "a2(1)= [array([0.]), array([3.])]\n",
            "a2(2)= [0, array([3.])]\n"
          ]
        }
      ]
    }
  ]
}